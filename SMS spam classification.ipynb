{
 "cells": [
  {
   "cell_type": "code",
   "execution_count": 1,
   "id": "5efd62f2",
   "metadata": {},
   "outputs": [],
   "source": [
    "import numpy as np\n",
    "import pandas as pd"
   ]
  },
  {
   "cell_type": "code",
   "execution_count": 15,
   "id": "852dc861",
   "metadata": {},
   "outputs": [],
   "source": [
    "file_path = r'C:\\Users\\suraj\\Downloads\\deepak\\DATA science projects\\ML projects\\SMS spam classification\\spam.csv'\n",
    "\n",
    "df = pd.read_csv(file_path, encoding='ISO-8859-1')"
   ]
  },
  {
   "cell_type": "code",
   "execution_count": 16,
   "id": "6859664c",
   "metadata": {},
   "outputs": [
    {
     "data": {
      "text/html": [
       "<div>\n",
       "<style scoped>\n",
       "    .dataframe tbody tr th:only-of-type {\n",
       "        vertical-align: middle;\n",
       "    }\n",
       "\n",
       "    .dataframe tbody tr th {\n",
       "        vertical-align: top;\n",
       "    }\n",
       "\n",
       "    .dataframe thead th {\n",
       "        text-align: right;\n",
       "    }\n",
       "</style>\n",
       "<table border=\"1\" class=\"dataframe\">\n",
       "  <thead>\n",
       "    <tr style=\"text-align: right;\">\n",
       "      <th></th>\n",
       "      <th>v1</th>\n",
       "      <th>v2</th>\n",
       "      <th>Unnamed: 2</th>\n",
       "      <th>Unnamed: 3</th>\n",
       "      <th>Unnamed: 4</th>\n",
       "    </tr>\n",
       "  </thead>\n",
       "  <tbody>\n",
       "    <tr>\n",
       "      <th>0</th>\n",
       "      <td>ham</td>\n",
       "      <td>Go until jurong point, crazy.. Available only ...</td>\n",
       "      <td>NaN</td>\n",
       "      <td>NaN</td>\n",
       "      <td>NaN</td>\n",
       "    </tr>\n",
       "    <tr>\n",
       "      <th>1</th>\n",
       "      <td>ham</td>\n",
       "      <td>Ok lar... Joking wif u oni...</td>\n",
       "      <td>NaN</td>\n",
       "      <td>NaN</td>\n",
       "      <td>NaN</td>\n",
       "    </tr>\n",
       "    <tr>\n",
       "      <th>2</th>\n",
       "      <td>spam</td>\n",
       "      <td>Free entry in 2 a wkly comp to win FA Cup fina...</td>\n",
       "      <td>NaN</td>\n",
       "      <td>NaN</td>\n",
       "      <td>NaN</td>\n",
       "    </tr>\n",
       "    <tr>\n",
       "      <th>3</th>\n",
       "      <td>ham</td>\n",
       "      <td>U dun say so early hor... U c already then say...</td>\n",
       "      <td>NaN</td>\n",
       "      <td>NaN</td>\n",
       "      <td>NaN</td>\n",
       "    </tr>\n",
       "    <tr>\n",
       "      <th>4</th>\n",
       "      <td>ham</td>\n",
       "      <td>Nah I don't think he goes to usf, he lives aro...</td>\n",
       "      <td>NaN</td>\n",
       "      <td>NaN</td>\n",
       "      <td>NaN</td>\n",
       "    </tr>\n",
       "  </tbody>\n",
       "</table>\n",
       "</div>"
      ],
      "text/plain": [
       "     v1                                                 v2 Unnamed: 2   \n",
       "0   ham  Go until jurong point, crazy.. Available only ...        NaN  \\\n",
       "1   ham                      Ok lar... Joking wif u oni...        NaN   \n",
       "2  spam  Free entry in 2 a wkly comp to win FA Cup fina...        NaN   \n",
       "3   ham  U dun say so early hor... U c already then say...        NaN   \n",
       "4   ham  Nah I don't think he goes to usf, he lives aro...        NaN   \n",
       "\n",
       "  Unnamed: 3 Unnamed: 4  \n",
       "0        NaN        NaN  \n",
       "1        NaN        NaN  \n",
       "2        NaN        NaN  \n",
       "3        NaN        NaN  \n",
       "4        NaN        NaN  "
      ]
     },
     "execution_count": 16,
     "metadata": {},
     "output_type": "execute_result"
    }
   ],
   "source": [
    "df.head()"
   ]
  },
  {
   "cell_type": "code",
   "execution_count": 17,
   "id": "107aa4f4",
   "metadata": {},
   "outputs": [],
   "source": [
    "df=df.drop(['Unnamed: 2','Unnamed: 3','Unnamed: 4'], axis=1)"
   ]
  },
  {
   "cell_type": "code",
   "execution_count": 18,
   "id": "26718f83",
   "metadata": {},
   "outputs": [
    {
     "data": {
      "text/html": [
       "<div>\n",
       "<style scoped>\n",
       "    .dataframe tbody tr th:only-of-type {\n",
       "        vertical-align: middle;\n",
       "    }\n",
       "\n",
       "    .dataframe tbody tr th {\n",
       "        vertical-align: top;\n",
       "    }\n",
       "\n",
       "    .dataframe thead th {\n",
       "        text-align: right;\n",
       "    }\n",
       "</style>\n",
       "<table border=\"1\" class=\"dataframe\">\n",
       "  <thead>\n",
       "    <tr style=\"text-align: right;\">\n",
       "      <th></th>\n",
       "      <th>v1</th>\n",
       "      <th>v2</th>\n",
       "    </tr>\n",
       "  </thead>\n",
       "  <tbody>\n",
       "    <tr>\n",
       "      <th>0</th>\n",
       "      <td>ham</td>\n",
       "      <td>Go until jurong point, crazy.. Available only ...</td>\n",
       "    </tr>\n",
       "    <tr>\n",
       "      <th>1</th>\n",
       "      <td>ham</td>\n",
       "      <td>Ok lar... Joking wif u oni...</td>\n",
       "    </tr>\n",
       "    <tr>\n",
       "      <th>2</th>\n",
       "      <td>spam</td>\n",
       "      <td>Free entry in 2 a wkly comp to win FA Cup fina...</td>\n",
       "    </tr>\n",
       "    <tr>\n",
       "      <th>3</th>\n",
       "      <td>ham</td>\n",
       "      <td>U dun say so early hor... U c already then say...</td>\n",
       "    </tr>\n",
       "    <tr>\n",
       "      <th>4</th>\n",
       "      <td>ham</td>\n",
       "      <td>Nah I don't think he goes to usf, he lives aro...</td>\n",
       "    </tr>\n",
       "  </tbody>\n",
       "</table>\n",
       "</div>"
      ],
      "text/plain": [
       "     v1                                                 v2\n",
       "0   ham  Go until jurong point, crazy.. Available only ...\n",
       "1   ham                      Ok lar... Joking wif u oni...\n",
       "2  spam  Free entry in 2 a wkly comp to win FA Cup fina...\n",
       "3   ham  U dun say so early hor... U c already then say...\n",
       "4   ham  Nah I don't think he goes to usf, he lives aro..."
      ]
     },
     "execution_count": 18,
     "metadata": {},
     "output_type": "execute_result"
    }
   ],
   "source": [
    "df.head(5)"
   ]
  },
  {
   "cell_type": "code",
   "execution_count": 19,
   "id": "ddc28eba",
   "metadata": {},
   "outputs": [],
   "source": [
    "df=df.rename(columns={'v1':'label','v2':'Text'})"
   ]
  },
  {
   "cell_type": "code",
   "execution_count": 20,
   "id": "9123f157",
   "metadata": {},
   "outputs": [
    {
     "data": {
      "text/html": [
       "<div>\n",
       "<style scoped>\n",
       "    .dataframe tbody tr th:only-of-type {\n",
       "        vertical-align: middle;\n",
       "    }\n",
       "\n",
       "    .dataframe tbody tr th {\n",
       "        vertical-align: top;\n",
       "    }\n",
       "\n",
       "    .dataframe thead th {\n",
       "        text-align: right;\n",
       "    }\n",
       "</style>\n",
       "<table border=\"1\" class=\"dataframe\">\n",
       "  <thead>\n",
       "    <tr style=\"text-align: right;\">\n",
       "      <th></th>\n",
       "      <th>label</th>\n",
       "      <th>Text</th>\n",
       "    </tr>\n",
       "  </thead>\n",
       "  <tbody>\n",
       "    <tr>\n",
       "      <th>0</th>\n",
       "      <td>ham</td>\n",
       "      <td>Go until jurong point, crazy.. Available only ...</td>\n",
       "    </tr>\n",
       "    <tr>\n",
       "      <th>1</th>\n",
       "      <td>ham</td>\n",
       "      <td>Ok lar... Joking wif u oni...</td>\n",
       "    </tr>\n",
       "    <tr>\n",
       "      <th>2</th>\n",
       "      <td>spam</td>\n",
       "      <td>Free entry in 2 a wkly comp to win FA Cup fina...</td>\n",
       "    </tr>\n",
       "    <tr>\n",
       "      <th>3</th>\n",
       "      <td>ham</td>\n",
       "      <td>U dun say so early hor... U c already then say...</td>\n",
       "    </tr>\n",
       "    <tr>\n",
       "      <th>4</th>\n",
       "      <td>ham</td>\n",
       "      <td>Nah I don't think he goes to usf, he lives aro...</td>\n",
       "    </tr>\n",
       "  </tbody>\n",
       "</table>\n",
       "</div>"
      ],
      "text/plain": [
       "  label                                               Text\n",
       "0   ham  Go until jurong point, crazy.. Available only ...\n",
       "1   ham                      Ok lar... Joking wif u oni...\n",
       "2  spam  Free entry in 2 a wkly comp to win FA Cup fina...\n",
       "3   ham  U dun say so early hor... U c already then say...\n",
       "4   ham  Nah I don't think he goes to usf, he lives aro..."
      ]
     },
     "execution_count": 20,
     "metadata": {},
     "output_type": "execute_result"
    }
   ],
   "source": [
    "df.head()"
   ]
  },
  {
   "cell_type": "code",
   "execution_count": 22,
   "id": "eeed7619",
   "metadata": {},
   "outputs": [],
   "source": [
    "df['label_encoding']= df['label'].map({'ham':0,'spam':1})"
   ]
  },
  {
   "cell_type": "code",
   "execution_count": 25,
   "id": "1a04c2b1",
   "metadata": {},
   "outputs": [],
   "source": [
    "import matplotlib.pyplot as plt\n",
    "import seaborn as sns\n",
    "import tensorflow as tf\n",
    "from tensorflow import keras\n",
    "from tensorflow.keras import layers"
   ]
  },
  {
   "cell_type": "code",
   "execution_count": 26,
   "id": "e6cc9477",
   "metadata": {},
   "outputs": [
    {
     "data": {
      "image/png": "[encoded data removed]",
      "text/plain": [
       "<Figure size 640x480 with 1 Axes>"
      ]
     },
     "metadata": {},
     "output_type": "display_data"
    }
   ],
   "source": [
    "sns.countplot(x=df['label'])\n",
    "plt.show()"
   ]
  },
  {
   "cell_type": "code",
   "execution_count": 27,
   "id": "8c142651",
   "metadata": {},
   "outputs": [
    {
     "name": "stdout",
     "output_type": "stream",
     "text": [
      "15\n"
     ]
    }
   ],
   "source": [
    "avg_words_len=round(sum([len(i.split()) for i in df['Text']])/len(df['Text']))\n",
    "print(avg_words_len)"
   ]
  },
  {
   "cell_type": "code",
   "execution_count": 29,
   "id": "3e0feb28",
   "metadata": {},
   "outputs": [
    {
     "data": {
      "text/plain": [
       "((4457,), (4457,), (1115,), (1115,))"
      ]
     },
     "execution_count": 29,
     "metadata": {},
     "output_type": "execute_result"
    }
   ],
   "source": [
    "from sklearn.model_selection import train_test_split\n",
    " \n",
    "X, y = np.asanyarray(df['Text']), np.asanyarray(df['label_encoding'])\n",
    "new_df = pd.DataFrame({'Text': X, 'label': y})\n",
    "X_train, X_test, y_train, y_test = train_test_split(\n",
    "    new_df['Text'], new_df['label'], test_size=0.2, random_state=42)\n",
    "X_train.shape, y_train.shape, X_test.shape, y_test.shape\n"
   ]
  },
  {
   "cell_type": "code",
   "execution_count": 30,
   "id": "02c5b322",
   "metadata": {},
   "outputs": [],
   "source": [
    "from sklearn.feature_extraction.text import TfidfVectorizer\n",
    "from sklearn.naive_bayes import MultinomialNB\n",
    "from sklearn.metrics import classification_report,accuracy_score"
   ]
  },
  {
   "cell_type": "code",
   "execution_count": 31,
   "id": "d517d8c1",
   "metadata": {},
   "outputs": [
    {
     "data": {
      "text/html": [
       "<style>#sk-container-id-1 {color: black;}#sk-container-id-1 pre{padding: 0;}#sk-container-id-1 div.sk-toggleable {background-color: white;}#sk-container-id-1 label.sk-toggleable__label {cursor: pointer;display: block;width: 100%;margin-bottom: 0;padding: 0.3em;box-sizing: border-box;text-align: center;}#sk-container-id-1 label.sk-toggleable__label-arrow:before {content: \"▸\";float: left;margin-right: 0.25em;color: #696969;}#sk-container-id-1 label.sk-toggleable__label-arrow:hover:before {color: black;}#sk-container-id-1 div.sk-estimator:hover label.sk-toggleable__label-arrow:before {color: black;}#sk-container-id-1 div.sk-toggleable__content {max-height: 0;max-width: 0;overflow: hidden;text-align: left;background-color: #f0f8ff;}#sk-container-id-1 div.sk-toggleable__content pre {margin: 0.2em;color: black;border-radius: 0.25em;background-color: #f0f8ff;}#sk-container-id-1 input.sk-toggleable__control:checked~div.sk-toggleable__content {max-height: 200px;max-width: 100%;overflow: auto;}#sk-container-id-1 input.sk-toggleable__control:checked~label.sk-toggleable__label-arrow:before {content: \"▾\";}#sk-container-id-1 div.sk-estimator input.sk-toggleable__control:checked~label.sk-toggleable__label {background-color: #d4ebff;}#sk-container-id-1 div.sk-label input.sk-toggleable__control:checked~label.sk-toggleable__label {background-color: #d4ebff;}#sk-container-id-1 input.sk-hidden--visually {border: 0;clip: rect(1px 1px 1px 1px);clip: rect(1px, 1px, 1px, 1px);height: 1px;margin: -1px;overflow: hidden;padding: 0;position: absolute;width: 1px;}#sk-container-id-1 div.sk-estimator {font-family: monospace;background-color: #f0f8ff;border: 1px dotted black;border-radius: 0.25em;box-sizing: border-box;margin-bottom: 0.5em;}#sk-container-id-1 div.sk-estimator:hover {background-color: #d4ebff;}#sk-container-id-1 div.sk-parallel-item::after {content: \"\";width: 100%;border-bottom: 1px solid gray;flex-grow: 1;}#sk-container-id-1 div.sk-label:hover label.sk-toggleable__label {background-color: #d4ebff;}#sk-container-id-1 div.sk-serial::before {content: \"\";position: absolute;border-left: 1px solid gray;box-sizing: border-box;top: 0;bottom: 0;left: 50%;z-index: 0;}#sk-container-id-1 div.sk-serial {display: flex;flex-direction: column;align-items: center;background-color: white;padding-right: 0.2em;padding-left: 0.2em;position: relative;}#sk-container-id-1 div.sk-item {position: relative;z-index: 1;}#sk-container-id-1 div.sk-parallel {display: flex;align-items: stretch;justify-content: center;background-color: white;position: relative;}#sk-container-id-1 div.sk-item::before, #sk-container-id-1 div.sk-parallel-item::before {content: \"\";position: absolute;border-left: 1px solid gray;box-sizing: border-box;top: 0;bottom: 0;left: 50%;z-index: -1;}#sk-container-id-1 div.sk-parallel-item {display: flex;flex-direction: column;z-index: 1;position: relative;background-color: white;}#sk-container-id-1 div.sk-parallel-item:first-child::after {align-self: flex-end;width: 50%;}#sk-container-id-1 div.sk-parallel-item:last-child::after {align-self: flex-start;width: 50%;}#sk-container-id-1 div.sk-parallel-item:only-child::after {width: 0;}#sk-container-id-1 div.sk-dashed-wrapped {border: 1px dashed gray;margin: 0 0.4em 0.5em 0.4em;box-sizing: border-box;padding-bottom: 0.4em;background-color: white;}#sk-container-id-1 div.sk-label label {font-family: monospace;font-weight: bold;display: inline-block;line-height: 1.2em;}#sk-container-id-1 div.sk-label-container {text-align: center;}#sk-container-id-1 div.sk-container {/* jupyter's `normalize.less` sets `[hidden] { display: none; }` but bootstrap.min.css set `[hidden] { display: none !important; }` so we also need the `!important` here to be able to override the default hidden behavior on the sphinx rendered scikit-learn.org. See: https://github.com/scikit-learn/scikit-learn/issues/21755 */display: inline-block !important;position: relative;}#sk-container-id-1 div.sk-text-repr-fallback {display: none;}</style><div id=\"sk-container-id-1\" class=\"sk-top-container\"><div class=\"sk-text-repr-fallback\"><pre>MultinomialNB()</pre><b>In a Jupyter environment, please rerun this cell to show the HTML representation or trust the notebook. <br />On GitHub, the HTML representation is unable to render, please try loading this page with nbviewer.org.</b></div><div class=\"sk-container\" hidden><div class=\"sk-item\"><div class=\"sk-estimator sk-toggleable\"><input class=\"sk-toggleable__control sk-hidden--visually\" id=\"sk-estimator-id-1\" type=\"checkbox\" checked><label for=\"sk-estimator-id-1\" class=\"sk-toggleable__label sk-toggleable__label-arrow\">MultinomialNB</label><div class=\"sk-toggleable__content\"><pre>MultinomialNB()</pre></div></div></div></div></div>"
      ],
      "text/plain": [
       "MultinomialNB()"
      ]
     },
     "execution_count": 31,
     "metadata": {},
     "output_type": "execute_result"
    }
   ],
   "source": [
    "tfidf_vec = TfidfVectorizer().fit(X_train)\n",
    "X_train_vec,X_test_vec = tfidf_vec.transform(X_train),tfidf_vec.transform(X_test)\n",
    " \n",
    "baseline_model = MultinomialNB()\n",
    "baseline_model.fit(X_train_vec,y_train)"
   ]
  },
  {
   "cell_type": "code",
   "execution_count": 34,
   "id": "052b9de8",
   "metadata": {},
   "outputs": [
    {
     "name": "stdout",
     "output_type": "stream",
     "text": [
      "15585\n"
     ]
    }
   ],
   "source": [
    "s = set()\n",
    "for sent in df['Text']:\n",
    "    for word in sent.split():\n",
    "        s.add(word)\n",
    "total_words_length=len(s)\n",
    "print(total_words_length)"
   ]
  },
  {
   "cell_type": "code",
   "execution_count": 35,
   "id": "667ae704",
   "metadata": {},
   "outputs": [],
   "source": [
    "from tensorflow.keras.layers import TextVectorization\n",
    "\n",
    "MAXTOKENS=total_words_length\n",
    "OUTPUTLEN=avg_words_len\n",
    "\n",
    "text_vec = TextVectorization(\n",
    "\tmax_tokens=MAXTOKENS,\n",
    "\tstandardize='lower_and_strip_punctuation',\n",
    "\toutput_mode='int',\n",
    "\toutput_sequence_length=OUTPUTLEN\n",
    ")\n",
    "text_vec.adapt(X_train)\n"
   ]
  },
  {
   "cell_type": "code",
   "execution_count": 36,
   "id": "91b75b1e",
   "metadata": {},
   "outputs": [],
   "source": [
    "embedding_layer = layers.Embedding(\n",
    "\tinput_dim=MAXTOKENS,\n",
    "\toutput_dim=128,\n",
    "\tembeddings_initializer='uniform',\n",
    "\tinput_length=OUTPUTLEN\n",
    ")\n"
   ]
  },
  {
   "cell_type": "code",
   "execution_count": 37,
   "id": "8a8816f6",
   "metadata": {},
   "outputs": [],
   "source": [
    "input_layer = layers.Input(shape=(1,), dtype=tf.string)\n",
    "vec_layer = text_vec(input_layer)\n",
    "embedding_layer_model = embedding_layer(vec_layer)\n",
    "x = layers.GlobalAveragePooling1D()(embedding_layer_model)\n",
    "x = layers.Flatten()(x)\n",
    "x = layers.Dense(32, activation='relu')(x)\n",
    "output_layer = layers.Dense(1, activation='sigmoid')(x)\n",
    "model_1 = keras.Model(input_layer, output_layer)\n",
    "\n",
    "model_1.compile(optimizer='adam', loss=keras.losses.BinaryCrossentropy(\n",
    "\tlabel_smoothing=0.5), metrics=['accuracy'])\n"
   ]
  },
  {
   "cell_type": "code",
   "execution_count": 38,
   "id": "6b280a66",
   "metadata": {},
   "outputs": [],
   "source": [
    "from sklearn.metrics import precision_score, recall_score, f1_score\n",
    "\n",
    "def compile_model(model):\n",
    "\t'''\n",
    "\tsimply compile the model with adam optimzer\n",
    "\t'''\n",
    "\tmodel.compile(optimizer=keras.optimizers.Adam(),\n",
    "\t\t\t\tloss=keras.losses.BinaryCrossentropy(),\n",
    "\t\t\t\tmetrics=['accuracy'])\n",
    "\n",
    "def fit_model(model, epochs, X_train=X_train, y_train=y_train,\n",
    "\t\t\tX_test=X_test, y_test=y_test):\n",
    "\t'''\n",
    "\tfit the model with given epochs, train\n",
    "\tand test data\n",
    "\t'''\n",
    "\thistory = model.fit(X_train,\n",
    "\t\t\t\t\t\ty_train,\n",
    "\t\t\t\t\t\tepochs=epochs,\n",
    "\t\t\t\t\t\tvalidation_data=(X_test, y_test),\n",
    "\t\t\t\t\t\tvalidation_steps=int(0.2*len(X_test)))\n",
    "\treturn history\n",
    "\n",
    "def evaluate_model(model, X, y):\n",
    "\t'''\n",
    "\tevaluate the model and returns accuracy,\n",
    "\tprecision, recall and f1-score\n",
    "\t'''\n",
    "\ty_preds = np.round(model.predict(X))\n",
    "\taccuracy = accuracy_score(y, y_preds)\n",
    "\tprecision = precision_score(y, y_preds)\n",
    "\trecall = recall_score(y, y_preds)\n",
    "\tf1 = f1_score(y, y_preds)\n",
    "\n",
    "\tmodel_results_dict = {'accuracy': accuracy,\n",
    "\t\t\t\t\t\t'precision': precision,\n",
    "\t\t\t\t\t\t'recall': recall,\n",
    "\t\t\t\t\t\t'f1-score': f1}\n",
    "\n",
    "\treturn model_results_dict\n"
   ]
  },
  {
   "cell_type": "code",
   "execution_count": 39,
   "id": "4827fe54",
   "metadata": {},
   "outputs": [
    {
     "name": "stdout",
     "output_type": "stream",
     "text": [
      "Epoch 1/5\n",
      "140/140 [==============================] - 31s 91ms/step - loss: 0.1562 - accuracy: 0.9435 - val_loss: 0.0955 - val_accuracy: 0.9731\n",
      "Epoch 2/5\n",
      "140/140 [==============================] - 9s 62ms/step - loss: 0.0217 - accuracy: 0.9946 - val_loss: 0.1100 - val_accuracy: 0.9677\n",
      "Epoch 3/5\n",
      "140/140 [==============================] - 8s 60ms/step - loss: 0.0051 - accuracy: 0.9989 - val_loss: 0.1205 - val_accuracy: 0.9740\n",
      "Epoch 4/5\n",
      "140/140 [==============================] - 8s 60ms/step - loss: 0.0056 - accuracy: 0.9987 - val_loss: 0.1225 - val_accuracy: 0.9641\n",
      "Epoch 5/5\n",
      "140/140 [==============================] - 8s 60ms/step - loss: 0.0013 - accuracy: 0.9996 - val_loss: 0.1615 - val_accuracy: 0.9713\n"
     ]
    }
   ],
   "source": [
    "input_layer = layers.Input(shape=(1,), dtype=tf.string)\n",
    "vec_layer = text_vec(input_layer)\n",
    "embedding_layer_model = embedding_layer(vec_layer)\n",
    "bi_lstm = layers.Bidirectional(layers.LSTM(\n",
    "\t64, activation='tanh', return_sequences=True))(embedding_layer_model)\n",
    "lstm = layers.Bidirectional(layers.LSTM(64))(bi_lstm)\n",
    "flatten = layers.Flatten()(lstm)\n",
    "dropout = layers.Dropout(.1)(flatten)\n",
    "x = layers.Dense(32, activation='relu')(dropout)\n",
    "output_layer = layers.Dense(1, activation='sigmoid')(x)\n",
    "model_2 = keras.Model(input_layer, output_layer)\n",
    "\n",
    "compile_model(model_2) # compile the model\n",
    "history_2 = fit_model(model_2, epochs=5) # fit the model\n"
   ]
  },
  {
   "cell_type": "code",
   "execution_count": 42,
   "id": "255baba5",
   "metadata": {},
   "outputs": [],
   "source": [
    "import tensorflow_hub as hub\n",
    "\n",
    "# model with Sequential api\n",
    "model_3 = keras.Sequential()\n",
    "\n",
    "# universal-sentence-encoder layer\n",
    "# directly from tfhub\n",
    "use_layer = hub.KerasLayer(\"https://tfhub.dev/google/universal-sentence-encoder/4\",\n",
    "\t\t\t\t\t\ttrainable=False,\n",
    "\t\t\t\t\t\tinput_shape=[],\n",
    "\t\t\t\t\t\tdtype=tf.string,\n",
    "\t\t\t\t\t\tname='USE')\n",
    "model_3.add(use_layer)\n",
    "model_3.add(layers.Dropout(0.2))\n",
    "model_3.add(layers.Dense(64, activation=keras.activations.relu))\n",
    "model_3.add(layers.Dense(1, activation=keras.activations.sigmoid))\n",
    "\n",
    "compile_model(model_3)\n"
   ]
  },
  {
   "cell_type": "code",
   "execution_count": 43,
   "id": "ccd09f54",
   "metadata": {},
   "outputs": [
    {
     "name": "stdout",
     "output_type": "stream",
     "text": [
      "35/35 [==============================] - 0s 2ms/step\n",
      "35/35 [==============================] - 4s 11ms/step\n",
      "35/35 [==============================] - 1s 11ms/step\n"
     ]
    },
    {
     "data": {
      "text/html": [
       "<div>\n",
       "<style scoped>\n",
       "    .dataframe tbody tr th:only-of-type {\n",
       "        vertical-align: middle;\n",
       "    }\n",
       "\n",
       "    .dataframe tbody tr th {\n",
       "        vertical-align: top;\n",
       "    }\n",
       "\n",
       "    .dataframe thead th {\n",
       "        text-align: right;\n",
       "    }\n",
       "</style>\n",
       "<table border=\"1\" class=\"dataframe\">\n",
       "  <thead>\n",
       "    <tr style=\"text-align: right;\">\n",
       "      <th></th>\n",
       "      <th>accuracy</th>\n",
       "      <th>precision</th>\n",
       "      <th>recall</th>\n",
       "      <th>f1-score</th>\n",
       "    </tr>\n",
       "  </thead>\n",
       "  <tbody>\n",
       "    <tr>\n",
       "      <th>MultinomialNB Model</th>\n",
       "      <td>0.962332</td>\n",
       "      <td>1.000000</td>\n",
       "      <td>0.720000</td>\n",
       "      <td>0.837209</td>\n",
       "    </tr>\n",
       "    <tr>\n",
       "      <th>Custom-Vec-Embedding Model</th>\n",
       "      <td>0.143498</td>\n",
       "      <td>0.030338</td>\n",
       "      <td>0.173333</td>\n",
       "      <td>0.051639</td>\n",
       "    </tr>\n",
       "    <tr>\n",
       "      <th>Bidirectional-LSTM Model</th>\n",
       "      <td>0.971300</td>\n",
       "      <td>0.893333</td>\n",
       "      <td>0.893333</td>\n",
       "      <td>0.893333</td>\n",
       "    </tr>\n",
       "    <tr>\n",
       "      <th>USE-Transfer learning Model</th>\n",
       "      <td>0.799103</td>\n",
       "      <td>0.250000</td>\n",
       "      <td>0.246667</td>\n",
       "      <td>0.248322</td>\n",
       "    </tr>\n",
       "  </tbody>\n",
       "</table>\n",
       "</div>"
      ],
      "text/plain": [
       "                             accuracy  precision    recall  f1-score\n",
       "MultinomialNB Model          0.962332   1.000000  0.720000  0.837209\n",
       "Custom-Vec-Embedding Model   0.143498   0.030338  0.173333  0.051639\n",
       "Bidirectional-LSTM Model     0.971300   0.893333  0.893333  0.893333\n",
       "USE-Transfer learning Model  0.799103   0.250000  0.246667  0.248322"
      ]
     },
     "execution_count": 43,
     "metadata": {},
     "output_type": "execute_result"
    }
   ],
   "source": [
    "baseline_model_results = evaluate_model(baseline_model, X_test_vec, y_test)\n",
    "model_1_results = evaluate_model(model_1, X_test, y_test)\n",
    "model_2_results = evaluate_model(model_2, X_test, y_test)\n",
    "model_3_results = evaluate_model(model_3, X_test, y_test)\n",
    "\n",
    "total_results = pd.DataFrame({'MultinomialNB Model':baseline_model_results,\n",
    "\t\t\t\t\t\t\t'Custom-Vec-Embedding Model':model_1_results,\n",
    "\t\t\t\t\t\t\t'Bidirectional-LSTM Model':model_2_results,\n",
    "\t\t\t\t\t\t\t'USE-Transfer learning Model':model_3_results}).transpose()\n",
    "\n",
    "total_results\n"
   ]
  },
  {
   "cell_type": "code",
   "execution_count": null,
   "id": "ed433f01",
   "metadata": {},
   "outputs": [],
   "source": []
  }
 ],
 "metadata": {
  "kernelspec": {
   "display_name": "Python 3 (ipykernel)",
   "language": "python",
   "name": "python3"
  },
  "language_info": {
   "codemirror_mode": {
    "name": "ipython",
    "version": 3
   },
   "file_extension": ".py",
   "mimetype": "text/x-python",
   "name": "python",
   "nbconvert_exporter": "python",
   "pygments_lexer": "ipython3",
   "version": "3.11.3"
  }
 },
 "nbformat": 4,
 "nbformat_minor": 5
}
